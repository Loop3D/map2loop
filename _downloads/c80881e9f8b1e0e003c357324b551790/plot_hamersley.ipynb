{
  "cells": [
    {
      "cell_type": "markdown",
      "metadata": {},
      "source": [
        "\n# Hamersley, Western Australia\n"
      ]
    },
    {
      "cell_type": "code",
      "execution_count": null,
      "metadata": {
        "collapsed": false
      },
      "outputs": [],
      "source": [
        "import time\nimport os\nfrom map2loop.project import Project\nfrom map2loop.m2l_enums import VerboseLevel, Datatype\nfrom map2loop.sorter import (\n    SorterAlpha,\n    SorterAgeBased,\n    SorterUseHint,\n    SorterUseNetworkX,\n    SorterMaximiseContacts,\n    SorterObservationProjections,\n)\nfrom map2loop.sampler import SamplerSpacing\nfrom datetime import datetime"
      ]
    },
    {
      "cell_type": "markdown",
      "metadata": {},
      "source": [
        "## Set the region of interest for the project\nDefine the bounding box for the ROI\n\n"
      ]
    },
    {
      "cell_type": "code",
      "execution_count": null,
      "metadata": {
        "collapsed": false
      },
      "outputs": [],
      "source": [
        "bbox_3d = {\n    \"minx\": 515687.31005864,\n    \"miny\": 7493446.76593407,\n    \"maxx\": 562666.860106543,\n    \"maxy\": 7521273.57407786,\n    \"base\": -3200,\n    \"top\": 3000,\n}\n\n# Specify minimum details (which Australian state, projection and bounding box\n# and output file)\nloop_project_filename = \"wa_output.loop3d\"\nproj = Project(\n    use_australian_state_data=\"WA\",\n    working_projection=\"EPSG:28350\",\n    bounding_box=bbox_3d,\n    verbose_level=VerboseLevel.NONE,\n    loop_project_filename=loop_project_filename,\n)\n\n# Set the distance between sample points for arial and linestring geometry\nproj.set_sampler(Datatype.GEOLOGY, SamplerSpacing(200.0))\nproj.set_sampler(Datatype.FAULT, SamplerSpacing(200.0))\n\n# Choose which stratigraphic sorter to use or run_all with \"take_best\" flag to run them all\nproj.set_sorter(SorterAlpha())\n# proj.set_sorter(SorterAgeBased())\n# proj.set_sorter(SorterUseHint())\n# proj.set_sorter(SorterUseNetworkx())\n# proj.set_sorter(SorterMaximiseContacts())\n# proj.set_sorter(SorterObservationProjections())\nproj.run_all(take_best=True)"
      ]
    },
    {
      "cell_type": "markdown",
      "metadata": {},
      "source": [
        "## Visualise the map2loop results\n\n"
      ]
    },
    {
      "cell_type": "code",
      "execution_count": null,
      "metadata": {
        "collapsed": false
      },
      "outputs": [],
      "source": [
        "proj.map_data.basal_contacts.plot()"
      ]
    }
  ],
  "metadata": {
    "kernelspec": {
      "display_name": "Python 3",
      "language": "python",
      "name": "python3"
    },
    "language_info": {
      "codemirror_mode": {
        "name": "ipython",
        "version": 3
      },
      "file_extension": ".py",
      "mimetype": "text/x-python",
      "name": "python",
      "nbconvert_exporter": "python",
      "pygments_lexer": "ipython3",
      "version": "3.11.7"
    }
  },
  "nbformat": 4,
  "nbformat_minor": 0
}